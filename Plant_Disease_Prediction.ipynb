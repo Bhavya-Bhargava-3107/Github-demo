{
  "nbformat": 4,
  "nbformat_minor": 0,
  "metadata": {
    "colab": {
      "provenance": []
    },
    "kernelspec": {
      "name": "python3",
      "display_name": "Python 3"
    },
    "language_info": {
      "name": "python"
    }
  },
  "cells": [
    {
      "cell_type": "code",
      "execution_count": null,
      "metadata": {
        "id": "Q2QCdLKTcPo9"
      },
      "outputs": [],
      "source": [
        "\n",
        "#Import Libraries\n",
        "import pandas as pd\n",
        "import matplotlib.pyplot as plt\n",
        "import seaborn as sns\n",
        "import joblib\n",
        "\n",
        "from sklearn.model_selection import train_test_split, cross_val_score\n",
        "from sklearn.preprocessing import LabelEncoder\n",
        "from sklearn.ensemble import RandomForestClassifier\n",
        "from sklearn.metrics import classification_report, confusion_matrix\n",
        "from sklearn.feature_selection import SelectKBest, f_classif\n"
      ]
    },
    {
      "cell_type": "code",
      "source": [
        "# Load & Combine Datasets\n",
        "file1 = \"/content/plant_disease_dataset.csv\"\n",
        "file2 = \"/content/plant_disease_data.csv\"\n",
        "\n",
        "df1 = pd.read_csv(file1)\n",
        "df2 = pd.read_csv(file2)\n",
        "\n",
        "\n",
        "df = pd.concat([df1, df2], ignore_index=True)\n",
        "\n",
        "print(\"Dataset shape after combining:\", df.shape)\n",
        "print(\"\\nDataset Info:\")\n",
        "print(df.info())\n",
        "print(\"\\nSummary Stats:\")\n",
        "print(df.describe())\n",
        "\n",
        "# Correlation (numeric features only)\n",
        "numeric_cols = [\"Leaf_Spot_Size\", \"Humidity\", \"Temperature\"]\n",
        "print(\"\\nCorrelation Matrix:\")\n",
        "print(df[numeric_cols].corr())\n"
      ],
      "metadata": {
        "id": "xRzRRjD3ebTc"
      },
      "execution_count": null,
      "outputs": []
    },
    {
      "cell_type": "code",
      "source": [
        "# Exploratory Data Analysis\n",
        "\n",
        "# Plant Type distribution\n",
        "plt.figure(figsize=(6,4))\n",
        "sns.countplot(data=df, x=\"Plant_Type\", palette=\"Set2\", legend=False)\n",
        "plt.title(\"Distribution of Plant Types\")\n",
        "plt.show()\n",
        "\n",
        "# Disease Status distribution\n",
        "plt.figure(figsize=(6,4))\n",
        "sns.countplot(data=df, x=\"Disease_Status\", palette=\"Set1\", legend=False)\n",
        "plt.title(\"Distribution of Disease Status\")\n",
        "plt.show()\n",
        "\n",
        "# Boxplots\n",
        "for col in [\"Leaf_Spot_Size\", \"Humidity\", \"Temperature\"]:\n",
        "    plt.figure(figsize=(6,4))\n",
        "    sns.boxplot(data=df, x=\"Disease_Status\", y=col, palette=\"coolwarm\")\n",
        "    plt.title(f\"{col} vs Disease Status\")\n",
        "    plt.show()\n"
      ],
      "metadata": {
        "id": "ZmewylvzeeDj"
      },
      "execution_count": null,
      "outputs": []
    },
    {
      "cell_type": "code",
      "source": [
        "# Encode Categorical Features\n",
        "le_plant = LabelEncoder()\n",
        "le_color = LabelEncoder()\n",
        "le_status = LabelEncoder()\n",
        "\n",
        "df[\"Plant_Type\"] = le_plant.fit_transform(df[\"Plant_Type\"])\n",
        "df[\"Leaf_Color\"] = le_color.fit_transform(df[\"Leaf_Color\"])\n",
        "df[\"Disease_Status\"] = le_status.fit_transform(df[\"Disease_Status\"])\n"
      ],
      "metadata": {
        "id": "C-XZ3dH8eu5A"
      },
      "execution_count": null,
      "outputs": []
    },
    {
      "cell_type": "code",
      "source": [
        "# Train/Test Split\n",
        "X = df.drop([\"Plant_ID\", \"Disease_Status\"], axis=1)\n",
        "y = df[\"Disease_Status\"]\n",
        "\n",
        "X_train, X_test, y_train, y_test = train_test_split(\n",
        "    X, y, test_size=0.2, random_state=42, stratify=y\n",
        ")\n"
      ],
      "metadata": {
        "id": "WqvSqZA9eyHE"
      },
      "execution_count": null,
      "outputs": []
    },
    {
      "cell_type": "code",
      "source": [
        "# Train Random Forest Model\n",
        "model = RandomForestClassifier(n_estimators=100, random_state=42)\n",
        "model.fit(X_train, y_train)\n"
      ],
      "metadata": {
        "id": "hCoD0qmSe1N1"
      },
      "execution_count": null,
      "outputs": []
    },
    {
      "cell_type": "code",
      "source": [
        "import numpy as np\n",
        "from sklearn.metrics import classification_report, confusion_matrix\n",
        "\n",
        "# Predictions\n",
        "y_pred = model.predict(X_test)\n",
        "\n",
        "# Ensure labels present in y_test or y_pred\n",
        "unique_labels = np.unique(np.concatenate([y_test, y_pred]))\n",
        "\n",
        "# Convert encoded labels back to original class names\n",
        "target_names = le_status.inverse_transform(unique_labels)\n",
        "target_names = [str(name) for name in target_names]   # force to list of strings\n",
        "\n",
        "# Classification report\n",
        "print(\"Classification Report:\\n\",\n",
        "      classification_report(y_test, y_pred,\n",
        "                            labels=unique_labels,\n",
        "                            target_names=target_names))\n",
        "\n",
        "# Confusion matrix\n",
        "cm = confusion_matrix(y_test, y_pred, labels=unique_labels)\n",
        "\n",
        "plt.figure(figsize=(6,4))\n",
        "sns.heatmap(cm, annot=True, fmt=\"d\", cmap=\"Blues\",\n",
        "            xticklabels=target_names,\n",
        "            yticklabels=target_names)\n",
        "plt.xlabel(\"Predicted\")\n",
        "plt.ylabel(\"Actual\")\n",
        "plt.title(\"Confusion Matrix Heatmap\")\n",
        "plt.show()\n"
      ],
      "metadata": {
        "id": "FaeRRdMZe5LA"
      },
      "execution_count": null,
      "outputs": []
    },
    {
      "cell_type": "code",
      "source": [
        "# Feature Importance\n",
        "plt.figure(figsize=(8,5))\n",
        "importances = model.feature_importances_\n",
        "features = X.columns\n",
        "sns.barplot(x=importances, y=features, palette=\"viridis\")\n",
        "plt.title(\"Feature Importance in Disease Prediction\")\n",
        "plt.show()\n"
      ],
      "metadata": {
        "id": "Imef1e7uglRr"
      },
      "execution_count": null,
      "outputs": []
    },
    {
      "cell_type": "code",
      "source": [
        "# Save Model & Encoders\n",
        "joblib.dump(model, \"plant_disease_model.pkl\")\n",
        "joblib.dump(le_plant, \"plant_encoder.pkl\")\n",
        "joblib.dump(le_color, \"color_encoder.pkl\")\n",
        "joblib.dump(le_status, \"status_encoder.pkl\")\n",
        "\n",
        "print(\"✅ Model and encoders saved successfully!\")\n"
      ],
      "metadata": {
        "id": "J80f8LT9gnAh"
      },
      "execution_count": null,
      "outputs": []
    },
    {
      "cell_type": "code",
      "source": [
        "#  Feature Selection\n",
        "from sklearn.feature_selection import SelectKBest, f_classif\n",
        "from sklearn.impute import SimpleImputer\n",
        "\n",
        "X = df.drop(columns=[\"Plant_ID\", \"Disease_Status\"])\n",
        "y = df[\"Disease_Status\"]\n",
        "\n",
        "if y.dtype == \"object\":\n",
        "    y = le_status.fit_transform(y)\n",
        "\n",
        "X_enc = pd.get_dummies(X, drop_first=True)\n",
        "\n",
        "imputer = SimpleImputer(strategy=\"mean\")\n",
        "X_enc = pd.DataFrame(imputer.fit_transform(X_enc), columns=X_enc.columns)\n",
        "\n",
        "\n",
        "selector = SelectKBest(score_func=f_classif, k=\"all\")\n",
        "X_new = selector.fit_transform(X_enc, y)\n",
        "\n",
        "\n",
        "feature_scores = pd.DataFrame({\n",
        "    \"Feature\": X_enc.columns,\n",
        "    \"Score\": selector.scores_\n",
        "}).sort_values(by=\"Score\", ascending=False)\n",
        "\n",
        "print(\"\\nFeature Importance Scores:\")\n",
        "print(feature_scores)\n",
        "\n",
        "\n",
        "plt.figure(figsize=(8,5))\n",
        "sns.barplot(x=\"Score\", y=\"Feature\", data=feature_scores, palette=\"crest\")\n",
        "plt.title(\"Feature Selection Scores (ANOVA F-test)\")\n",
        "plt.show()\n"
      ],
      "metadata": {
        "id": "cyuDxxT4gsDJ"
      },
      "execution_count": null,
      "outputs": []
    },
    {
      "cell_type": "code",
      "source": [
        "# Cross Validation\n",
        "scores = cross_val_score(model, X, y, cv=5, scoring=\"accuracy\")\n",
        "print(\"Cross-validation Accuracy Scores:\", scores)\n",
        "print(\"Mean Accuracy:\", scores.mean())\n"
      ],
      "metadata": {
        "id": "oUYEH1olhMlu"
      },
      "execution_count": null,
      "outputs": []
    },
    {
      "cell_type": "code",
      "source": [
        "# Multi Sample Predictions\n",
        "import pandas as pd\n",
        "import numpy as np\n",
        "\n",
        "# Raw new samples\n",
        "new_samples_raw = pd.DataFrame({\n",
        "    \"Plant_Type\": [\"Corn\", \"Rice\", \"Potato\"],\n",
        "    \"Leaf_Color\": [\"Green\", \"Yellow\", \"Brown\"],\n",
        "    \"Leaf_Spot_Size\": [1.2, 4.8, 6.0],\n",
        "    \"Humidity\": [65.0, 80.0, 50.0],\n",
        "    \"Temperature\": [27.0, 30.0, 35.0]\n",
        "})\n",
        "\n",
        "X_train_cols = X_train.columns\n",
        "\n",
        "new_samples_enc = pd.get_dummies(new_samples_raw, drop_first=True)\n",
        "\n",
        "\n",
        "for col in X_train_cols:\n",
        "    if col not in new_samples_enc.columns:\n",
        "        new_samples_enc[col] = 0\n",
        "\n",
        "\n",
        "new_samples_enc = new_samples_enc[X_train_cols]\n",
        "\n",
        "probs = model.predict_proba(new_samples_enc)\n",
        "predictions = model.predict(new_samples_enc)\n",
        "\n",
        "for i in range(len(new_samples_enc)):\n",
        "    print(f\"Sample {i+1}: {le_status.inverse_transform([predictions[i]])[0]}\")\n",
        "    for cls, p in zip(le_status.classes_, probs[i]):\n",
        "        print(f\"   {cls}: {p:.2f}\")\n"
      ],
      "metadata": {
        "id": "Tta5kMAMhPPI"
      },
      "execution_count": null,
      "outputs": []
    },
    {
      "cell_type": "code",
      "source": [
        "#  Detection\n",
        "plt.figure(figsize=(7,5))\n",
        "sns.boxplot(data=df, y=\"Leaf_Spot_Size\", x=\"Plant_Type\")\n",
        "plt.title(\"Outliers in Leaf Spot Size by Plant Type\")\n",
        "plt.show()\n"
      ],
      "metadata": {
        "id": "qoc_d6Y7hc6H"
      },
      "execution_count": null,
      "outputs": []
    }
  ]
}